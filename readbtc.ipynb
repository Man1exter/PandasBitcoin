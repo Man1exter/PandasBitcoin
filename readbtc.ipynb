{
 "cells": [
  {
   "cell_type": "code",
   "execution_count": 1,
   "metadata": {},
   "outputs": [
    {
     "data": {
      "text/html": [
       "<div>\n",
       "<style scoped>\n",
       "    .dataframe tbody tr th:only-of-type {\n",
       "        vertical-align: middle;\n",
       "    }\n",
       "\n",
       "    .dataframe tbody tr th {\n",
       "        vertical-align: top;\n",
       "    }\n",
       "\n",
       "    .dataframe thead th {\n",
       "        text-align: right;\n",
       "    }\n",
       "</style>\n",
       "<table border=\"1\" class=\"dataframe\">\n",
       "  <thead>\n",
       "    <tr style=\"text-align: right;\">\n",
       "      <th></th>\n",
       "      <th>Coin</th>\n",
       "      <th>Date</th>\n",
       "      <th>Currency</th>\n",
       "      <th>Price</th>\n",
       "    </tr>\n",
       "  </thead>\n",
       "  <tbody>\n",
       "    <tr>\n",
       "      <th>0</th>\n",
       "      <td>BTC</td>\n",
       "      <td>2023-01-27 13:36:20.655141</td>\n",
       "      <td>USD</td>\n",
       "      <td>22923.76</td>\n",
       "    </tr>\n",
       "    <tr>\n",
       "      <th>1</th>\n",
       "      <td>BTC</td>\n",
       "      <td>2023-01-27 13:36:23.872537</td>\n",
       "      <td>USD</td>\n",
       "      <td>22923.76</td>\n",
       "    </tr>\n",
       "    <tr>\n",
       "      <th>2</th>\n",
       "      <td>BTC</td>\n",
       "      <td>2023-01-27 13:36:27.075971</td>\n",
       "      <td>USD</td>\n",
       "      <td>22923.76</td>\n",
       "    </tr>\n",
       "    <tr>\n",
       "      <th>3</th>\n",
       "      <td>BTC</td>\n",
       "      <td>2023-01-27 13:36:30.630470</td>\n",
       "      <td>USD</td>\n",
       "      <td>22923.76</td>\n",
       "    </tr>\n",
       "    <tr>\n",
       "      <th>4</th>\n",
       "      <td>BTC</td>\n",
       "      <td>2023-01-27 13:36:37.635732</td>\n",
       "      <td>USD</td>\n",
       "      <td>22923.76</td>\n",
       "    </tr>\n",
       "    <tr>\n",
       "      <th>...</th>\n",
       "      <td>...</td>\n",
       "      <td>...</td>\n",
       "      <td>...</td>\n",
       "      <td>...</td>\n",
       "    </tr>\n",
       "    <tr>\n",
       "      <th>258</th>\n",
       "      <td>BTC</td>\n",
       "      <td>2023-01-27 13:50:41.426963</td>\n",
       "      <td>USD</td>\n",
       "      <td>22972.22</td>\n",
       "    </tr>\n",
       "    <tr>\n",
       "      <th>259</th>\n",
       "      <td>BTC</td>\n",
       "      <td>2023-01-27 13:50:44.653466</td>\n",
       "      <td>USD</td>\n",
       "      <td>22972.22</td>\n",
       "    </tr>\n",
       "    <tr>\n",
       "      <th>260</th>\n",
       "      <td>BTC</td>\n",
       "      <td>2023-01-27 13:50:47.857966</td>\n",
       "      <td>USD</td>\n",
       "      <td>22972.22</td>\n",
       "    </tr>\n",
       "    <tr>\n",
       "      <th>261</th>\n",
       "      <td>BTC</td>\n",
       "      <td>2023-01-27 13:50:51.083441</td>\n",
       "      <td>USD</td>\n",
       "      <td>22972.22</td>\n",
       "    </tr>\n",
       "    <tr>\n",
       "      <th>262</th>\n",
       "      <td>BTC</td>\n",
       "      <td>2023-01-27 13:50:54.301058</td>\n",
       "      <td>USD</td>\n",
       "      <td>22972.22</td>\n",
       "    </tr>\n",
       "  </tbody>\n",
       "</table>\n",
       "<p>263 rows × 4 columns</p>\n",
       "</div>"
      ],
      "text/plain": [
       "    Coin                        Date Currency     Price\n",
       "0    BTC  2023-01-27 13:36:20.655141      USD  22923.76\n",
       "1    BTC  2023-01-27 13:36:23.872537      USD  22923.76\n",
       "2    BTC  2023-01-27 13:36:27.075971      USD  22923.76\n",
       "3    BTC  2023-01-27 13:36:30.630470      USD  22923.76\n",
       "4    BTC  2023-01-27 13:36:37.635732      USD  22923.76\n",
       "..   ...                         ...      ...       ...\n",
       "258  BTC  2023-01-27 13:50:41.426963      USD  22972.22\n",
       "259  BTC  2023-01-27 13:50:44.653466      USD  22972.22\n",
       "260  BTC  2023-01-27 13:50:47.857966      USD  22972.22\n",
       "261  BTC  2023-01-27 13:50:51.083441      USD  22972.22\n",
       "262  BTC  2023-01-27 13:50:54.301058      USD  22972.22\n",
       "\n",
       "[263 rows x 4 columns]"
      ]
     },
     "execution_count": 1,
     "metadata": {},
     "output_type": "execute_result"
    }
   ],
   "source": [
    "import pandas as pd\n",
    "import sqlite3\n",
    "\n",
    "conn = sqlite3.connect('mydatabitcoins.db')\n",
    "df = pd.read_sql('select * from PriceBitcoins', conn)\n",
    "df\n"
   ]
  },
  {
   "cell_type": "code",
   "execution_count": 11,
   "metadata": {},
   "outputs": [
    {
     "data": {
      "text/plain": [
       "<AxesSubplot:>"
      ]
     },
     "execution_count": 11,
     "metadata": {},
     "output_type": "execute_result"
    },
    {
     "data": {
      "image/png": "[encoded data removed]",
      "text/plain": [
       "<Figure size 432x288 with 1 Axes>"
      ]
     },
     "metadata": {
      "needs_background": "light"
     },
     "output_type": "display_data"
    }
   ],
   "source": [
    "df.plot()"
   ]
  }
 ],
 "metadata": {
  "kernelspec": {
   "display_name": "Python 3",
   "language": "python",
   "name": "python3"
  },
  "language_info": {
   "codemirror_mode": {
    "name": "ipython",
    "version": 3
   },
   "file_extension": ".py",
   "mimetype": "text/x-python",
   "name": "python",
   "nbconvert_exporter": "python",
   "pygments_lexer": "ipython3",
   "version": "3.9.1"
  },
  "orig_nbformat": 4,
  "vscode": {
   "interpreter": {
    "hash": "6f7e9eb9836ce13748ee3e9d7e6a780e4cce23fefc931b0091eaabd67db1698b"
   }
  }
 },
 "nbformat": 4,
 "nbformat_minor": 2
}
